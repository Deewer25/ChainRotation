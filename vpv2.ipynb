{
 "metadata": {
  "language_info": {
   "codemirror_mode": {
    "name": "ipython",
    "version": 3
   },
   "file_extension": ".py",
   "mimetype": "text/x-python",
   "name": "python",
   "nbconvert_exporter": "python",
   "pygments_lexer": "ipython3",
   "version": "3.7.7-final"
  },
  "orig_nbformat": 2,
  "kernelspec": {
   "name": "python3",
   "display_name": "Python 3",
   "language": "python"
  }
 },
 "nbformat": 4,
 "nbformat_minor": 2,
 "cells": [
  {
   "cell_type": "code",
   "execution_count": 478,
   "metadata": {},
   "outputs": [],
   "source": [
    "import numpy as np \n",
    "import matplotlib.pyplot as plt\n",
    "from scipy.optimize import fsolve\n",
    "import random\n",
    "import time\n",
    "from scipy import optimize"
   ]
  },
  {
   "cell_type": "code",
   "execution_count": 479,
   "metadata": {},
   "outputs": [],
   "source": [
    "# PARAMETRS\n",
    "# w = 16.3362817987    # рад/с\n",
    "w = 11\n",
    "\n",
    "\n",
    "\n",
    "\n",
    "L = 1.4       # м\n",
    "g = 9.81    # м/с^2\n",
    "n = 50\n",
    "l = L/n\n",
    "r = 0.05\n",
    "ti = time.clock()"
   ]
  },
  {
   "cell_type": "code",
   "execution_count": 480,
   "metadata": {},
   "outputs": [],
   "source": [
    "# Версия 2\n",
    "# def eq(x):\n",
    "#     res = np.zeros([n])\n",
    "#     sum = 0\n",
    "    \n",
    "    \n",
    "#     for j in np.arange(0,n,1):\n",
    "#         for k in range(j, n+1, 1):\n",
    "#             for i in range(k):\n",
    "#                 sum += w**2 * l * x[i] * np.sqrt(1 - x[j]**2)\n",
    "#         sum += - g * (n - j + 1) * x[j]\n",
    "#         res[j] = sum\n",
    "#         sum = 0\n",
    "    \n",
    "#     return res"
   ]
  },
  {
   "cell_type": "code",
   "execution_count": 481,
   "metadata": {},
   "outputs": [],
   "source": [
    "# Версия 1\n",
    "# def eq(x):\n",
    "#     res = np.zeros([n])\n",
    "#     sum = 0\n",
    "    \n",
    "    \n",
    "#     for j in np.arange(1,n+1,1):\n",
    "#         for k in range(j, n+1, 1):\n",
    "#             for i in range(k):\n",
    "#                 sum += w**2 * l * x[i] * np.sqrt(1 - x[j]**2)\n",
    "#         sum += - g * (n - j + 1) * x[j]\n",
    "#         res[j] = sum\n",
    "#         sum = 0\n",
    "    \n",
    "#     return res"
   ]
  },
  {
   "cell_type": "code",
   "execution_count": 482,
   "metadata": {},
   "outputs": [],
   "source": [
    "# Версия 3\n",
    "def eq(x):\n",
    "    res = np.zeros([n])\n",
    "    Sum = 0\n",
    "\n",
    "    for i in range(1, n + 1, 1):\n",
    "\n",
    "        for j in range(1, i + 1, 1):\n",
    "            Sum += np.sin(x[j-1])\n",
    "        \n",
    "        Sum = Sum * (n - i + 1)\n",
    "\n",
    "        for k in range(i + 1, n + 1, 1):\n",
    "            Sum += (n - k + 1) * np.sin(x[k-1])\n",
    "        \n",
    "        Sum = Sum * w**2 * l * np.cos(x[i-1])\n",
    "        Sum = Sum - g * (n - i + 1) * np.sin(x[i-1]) + (n - i + 1) * w**2 * r * np.cos(x[i-1])\n",
    "        res[i-1] = Sum\n",
    "        Sum = 0\n",
    "    return res\n",
    " \n",
    "\n"
   ]
  },
  {
   "cell_type": "code",
   "execution_count": 483,
   "metadata": {},
   "outputs": [],
   "source": [
    "def jacobian(f, x):\n",
    "    h = 1.0e-4\n",
    "    n = len(x)\n",
    "    Jac = np.zeros([n,n])\n",
    "    f0 = f(x)\n",
    "    for i in np.arange(0,n,1):\n",
    "        tt = x[i]\n",
    "        x[i] = tt + h\n",
    "        f1 = f(x)\n",
    "        x[i] = tt\n",
    "        Jac[:,i] = (f1 - f0)/h\n",
    "    return Jac, f0"
   ]
  },
  {
   "cell_type": "code",
   "execution_count": 484,
   "metadata": {},
   "outputs": [],
   "source": [
    "def newton(f, x, tol=1.0e-9):\n",
    "    iterMax = 1000\n",
    "    for i in range(iterMax):\n",
    "        Jac, f0 = jacobian(f, x)\n",
    "        if np.sqrt(np.dot(f0, f0) / len(x)) < tol:\n",
    "            return x, i\n",
    "        dx = np.linalg.solve(Jac, f0)\n",
    "        x = x - dx\n",
    "    print(\"Too many iterations\")\n",
    "    return x, i"
   ]
  },
  {
   "cell_type": "code",
   "execution_count": 485,
   "metadata": {},
   "outputs": [],
   "source": [
    "x0 = np.zeros([n])\n",
    "# x0 += -np.pi/20\n",
    "x0+=-np.pi/12\n",
    "# x0 += np.pi/120\n",
    "# x0 += \n",
    "# x0 = np.pi * np.random.random_sample(len(x0)) - np.pi/2"
   ]
  },
  {
   "cell_type": "code",
   "execution_count": 486,
   "metadata": {},
   "outputs": [],
   "source": [
    "x, it = newton(eq, x0)"
   ]
  },
  {
   "cell_type": "code",
   "execution_count": 1109,
   "metadata": {},
   "outputs": [],
   "source": []
  },
  {
   "cell_type": "code",
   "execution_count": 487,
   "metadata": {},
   "outputs": [
    {
     "output_type": "execute_result",
     "data": {
      "text/plain": [
       "array([-2.75292678e-10, -2.74326339e-10, -2.73132628e-10, -2.71825229e-10,\n",
       "       -2.70858891e-10, -2.69722022e-10, -2.68983058e-10, -2.68414624e-10,\n",
       "       -2.67732503e-10, -2.67391442e-10, -2.66993538e-10, -2.66624056e-10,\n",
       "       -2.66140887e-10, -2.65544031e-10, -2.64918754e-10, -2.64151367e-10,\n",
       "       -2.63298716e-10, -2.62872391e-10, -2.62701860e-10, -2.63355560e-10,\n",
       "       -2.64662958e-10, -2.66737743e-10, -2.69722022e-10, -2.73274736e-10,\n",
       "       -2.76855872e-10, -2.79925416e-10, -2.82085466e-10, -2.82199153e-10,\n",
       "       -2.79726464e-10, -2.73985279e-10, -2.64677169e-10, -2.52057930e-10,\n",
       "       -2.37037057e-10, -2.21660912e-10, -2.09510631e-10, -2.04948947e-10,\n",
       "       -2.09624318e-10, -2.18733476e-10, -2.19785079e-10, -2.01026751e-10,\n",
       "       -1.63822733e-10, -1.22611254e-10, -9.24345045e-11, -7.77760079e-11,\n",
       "       -7.34132755e-11, -7.17221837e-11, -6.70876688e-11, -5.71436232e-11,\n",
       "       -4.17941237e-11, -2.21911378e-11])"
      ]
     },
     "metadata": {},
     "execution_count": 487
    }
   ],
   "source": [
    "eq(x)"
   ]
  },
  {
   "cell_type": "code",
   "execution_count": 488,
   "metadata": {},
   "outputs": [
    {
     "output_type": "stream",
     "name": "stdout",
     "text": [
      "Solution:\n [ 8.77483023e-02  7.64167614e-02  6.40451539e-02  5.06571436e-02\n  3.62880583e-02  2.09861046e-02  4.81350157e-03 -1.21525263e-02\n -2.98189565e-02 -4.80764337e-02 -6.67990377e-02 -8.58443809e-02\n -1.05054036e-01 -1.24254263e-01 -1.43256964e-01 -1.61860768e-01\n -1.79852102e-01 -1.97006081e-01 -2.13087053e-01 -2.27848590e-01\n -2.41032765e-01 -2.52368543e-01 -2.61569158e-01 -2.68328381e-01\n -2.72315657e-01 -2.73170155e-01 -2.70493974e-01 -2.63844939e-01\n -2.52729896e-01 -2.36600078e-01 -2.14851158e-01 -1.86832186e-01\n -1.51869565e-01 -1.09314281e-01 -5.86214183e-02  5.31822703e-04\n  6.80938156e-02  1.43476769e-01  2.25437881e-01  3.12073388e-01\n  4.00977687e-01  4.89555420e-01  5.75394604e-01  6.56573767e-01\n  7.31815462e-01  8.00478380e-01  8.62441339e-01  9.17947254e-01\n  9.67456762e-01  1.01153467e+00]\nNewton iter =  6\ntime:  3.707 seconds\n"
     ]
    }
   ],
   "source": [
    "print('Solution:\\n', x)\n",
    "print('Newton iter = ', it)\n",
    "print('time: ', round(time.clock() - ti, 3), 'seconds')"
   ]
  },
  {
   "cell_type": "code",
   "execution_count": 489,
   "metadata": {},
   "outputs": [],
   "source": [
    "res_x = np.zeros([len(x)+1])"
   ]
  },
  {
   "cell_type": "code",
   "execution_count": 490,
   "metadata": {},
   "outputs": [],
   "source": [
    "res_x[0] = 0.05\n",
    "for i in range(len(x)):\n",
    "    res_x[i+1] = res_x[i] + l * np.sin(x[i])"
   ]
  },
  {
   "cell_type": "code",
   "execution_count": 491,
   "metadata": {},
   "outputs": [],
   "source": [
    "res_y = np.zeros([len(x)+1])"
   ]
  },
  {
   "cell_type": "code",
   "execution_count": 492,
   "metadata": {},
   "outputs": [
    {
     "output_type": "stream",
     "name": "stdout",
     "text": [
      "0.027892272445775787\n0.05581055892141709\n0.08375315360317659\n0.11171723523838609\n0.13969880173686025\n0.1676926361309251\n0.19569231175438798\n0.223690244205305\n0.2516777967453787\n0.27964544416896897\n0.30758299783430054\n0.3354798915675303\n0.3633255247095285\n0.3911096549551469\n0.41882283018239214\n0.4464568455465982\n0.47400521003200136\n0.5014636055950761\n0.528830321999295\n0.556106651202338\n0.5832972262479231\n0.6104102903392017\n0.6374578812208958\n0.6644559130624185\n0.691424131389095\n0.7183859046837117\n0.7453677972514182\n0.7723988398438983\n0.7995093757483754\n0.8267293105785054\n0.8540855384560033\n0.8815982706070196\n0.9092759896471577\n0.9371088616054389\n0.9650607647918727\n0.9930607608321774\n1.0209958711631086\n1.0487081670541718\n1.0759996640004323\n1.1026472365144806\n1.1284262716022475\n1.153137447666187\n1.176628821526918\n1.1988072931344713\n1.2196382430840529\n1.2391364199842874\n1.257352810483678\n1.2743614678129664\n1.2902485440811646\n1.305104237772872\n"
     ]
    }
   ],
   "source": [
    "res_y[0] = 0\n",
    "for i in range(len(x)):\n",
    "    res_y[i+1] = res_y[i] + l * np.cos(x[i])\n",
    "    print(res_y[i+1])\n",
    "for i in range(len(x) + 1):\n",
    "    res_y[i] = -res_y[i]"
   ]
  },
  {
   "cell_type": "code",
   "execution_count": 93,
   "metadata": {},
   "outputs": [],
   "source": []
  },
  {
   "cell_type": "code",
   "execution_count": 493,
   "metadata": {},
   "outputs": [
    {
     "output_type": "execute_result",
     "data": {
      "text/plain": [
       "Text(0, 0.5, 'y, м')"
      ]
     },
     "metadata": {},
     "execution_count": 493
    },
    {
     "output_type": "display_data",
     "data": {
      "text/plain": "<Figure size 432x288 with 1 Axes>",
      "image/svg+xml": "<?xml version=\"1.0\" encoding=\"utf-8\" standalone=\"no\"?>\n<!DOCTYPE svg PUBLIC \"-//W3C//DTD SVG 1.1//EN\"\n  \"http://www.w3.org/Graphics/SVG/1.1/DTD/svg11.dtd\">\n<!-- Created with matplotlib (https://matplotlib.org/) -->\n<svg height=\"262.19625pt\" version=\"1.1\" viewBox=\"0 0 394.160937 262.19625\" width=\"394.160937pt\" xmlns=\"http://www.w3.org/2000/svg\" xmlns:xlink=\"http://www.w3.org/1999/xlink\">\n <metadata>\n  <rdf:RDF xmlns:cc=\"http://creativecommons.org/ns#\" xmlns:dc=\"http://purl.org/dc/elements/1.1/\" xmlns:rdf=\"http://www.w3.org/1999/02/22-rdf-syntax-ns#\">\n   <cc:Work>\n    <dc:type rdf:resource=\"http://purl.org/dc/dcmitype/StillImage\"/>\n    <dc:date>2021-01-22T03:01:38.567920</dc:date>\n    <dc:format>image/svg+xml</dc:format>\n    <dc:creator>\n     <cc:Agent>\n      <dc:title>Matplotlib v3.3.0, https://matplotlib.org/</dc:title>\n     </cc:Agent>\n    </dc:creator>\n   </cc:Work>\n  </rdf:RDF>\n </metadata>\n <defs>\n  <style type=\"text/css\">*{stroke-linecap:butt;stroke-linejoin:round;}</style>\n </defs>\n <g id=\"figure_1\">\n  <g id=\"patch_1\">\n   <path d=\"M 0 262.19625 \nL 394.160937 262.19625 \nL 394.160937 0 \nL 0 0 \nz\n\" style=\"fill:none;\"/>\n  </g>\n  <g id=\"axes_1\">\n   <g id=\"patch_2\">\n    <path d=\"M 52.160938 224.64 \nL 386.960938 224.64 \nL 386.960938 7.2 \nL 52.160938 7.2 \nz\n\" style=\"fill:#ffffff;\"/>\n   </g>\n   <g id=\"matplotlib.axis_1\">\n    <g id=\"xtick_1\">\n     <g id=\"line2d_1\">\n      <defs>\n       <path d=\"M 0 0 \nL 0 3.5 \n\" id=\"m415112975f\" style=\"stroke:#000000;stroke-width:0.8;\"/>\n      </defs>\n      <g>\n       <use style=\"stroke:#000000;stroke-width:0.8;\" x=\"106.883599\" xlink:href=\"#m415112975f\" y=\"224.64\"/>\n      </g>\n     </g>\n     <g id=\"text_1\">\n      <!-- −0.05 -->\n      <g transform=\"translate(91.560943 239.238437)scale(0.1 -0.1)\">\n       <defs>\n        <path d=\"M 10.59375 35.5 \nL 73.1875 35.5 \nL 73.1875 27.203125 \nL 10.59375 27.203125 \nz\n\" id=\"DejaVuSans-8722\"/>\n        <path d=\"M 31.78125 66.40625 \nQ 24.171875 66.40625 20.328125 58.90625 \nQ 16.5 51.421875 16.5 36.375 \nQ 16.5 21.390625 20.328125 13.890625 \nQ 24.171875 6.390625 31.78125 6.390625 \nQ 39.453125 6.390625 43.28125 13.890625 \nQ 47.125 21.390625 47.125 36.375 \nQ 47.125 51.421875 43.28125 58.90625 \nQ 39.453125 66.40625 31.78125 66.40625 \nz\nM 31.78125 74.21875 \nQ 44.046875 74.21875 50.515625 64.515625 \nQ 56.984375 54.828125 56.984375 36.375 \nQ 56.984375 17.96875 50.515625 8.265625 \nQ 44.046875 -1.421875 31.78125 -1.421875 \nQ 19.53125 -1.421875 13.0625 8.265625 \nQ 6.59375 17.96875 6.59375 36.375 \nQ 6.59375 54.828125 13.0625 64.515625 \nQ 19.53125 74.21875 31.78125 74.21875 \nz\n\" id=\"DejaVuSans-48\"/>\n        <path d=\"M 10.6875 12.40625 \nL 21 12.40625 \nL 21 0 \nL 10.6875 0 \nz\n\" id=\"DejaVuSans-46\"/>\n        <path d=\"M 10.796875 72.90625 \nL 49.515625 72.90625 \nL 49.515625 64.59375 \nL 19.828125 64.59375 \nL 19.828125 46.734375 \nQ 21.96875 47.46875 24.109375 47.828125 \nQ 26.265625 48.1875 28.421875 48.1875 \nQ 40.625 48.1875 47.75 41.5 \nQ 54.890625 34.8125 54.890625 23.390625 \nQ 54.890625 11.625 47.5625 5.09375 \nQ 40.234375 -1.421875 26.90625 -1.421875 \nQ 22.3125 -1.421875 17.546875 -0.640625 \nQ 12.796875 0.140625 7.71875 1.703125 \nL 7.71875 11.625 \nQ 12.109375 9.234375 16.796875 8.0625 \nQ 21.484375 6.890625 26.703125 6.890625 \nQ 35.15625 6.890625 40.078125 11.328125 \nQ 45.015625 15.765625 45.015625 23.390625 \nQ 45.015625 31 40.078125 35.4375 \nQ 35.15625 39.890625 26.703125 39.890625 \nQ 22.75 39.890625 18.8125 39.015625 \nQ 14.890625 38.140625 10.796875 36.28125 \nz\n\" id=\"DejaVuSans-53\"/>\n       </defs>\n       <use xlink:href=\"#DejaVuSans-8722\"/>\n       <use x=\"83.789062\" xlink:href=\"#DejaVuSans-48\"/>\n       <use x=\"147.412109\" xlink:href=\"#DejaVuSans-46\"/>\n       <use x=\"179.199219\" xlink:href=\"#DejaVuSans-48\"/>\n       <use x=\"242.822266\" xlink:href=\"#DejaVuSans-53\"/>\n      </g>\n     </g>\n    </g>\n    <g id=\"xtick_2\">\n     <g id=\"line2d_2\">\n      <g>\n       <use style=\"stroke:#000000;stroke-width:0.8;\" x=\"180.648999\" xlink:href=\"#m415112975f\" y=\"224.64\"/>\n      </g>\n     </g>\n     <g id=\"text_2\">\n      <!-- 0.00 -->\n      <g transform=\"translate(169.516187 239.238437)scale(0.1 -0.1)\">\n       <use xlink:href=\"#DejaVuSans-48\"/>\n       <use x=\"63.623047\" xlink:href=\"#DejaVuSans-46\"/>\n       <use x=\"95.410156\" xlink:href=\"#DejaVuSans-48\"/>\n       <use x=\"159.033203\" xlink:href=\"#DejaVuSans-48\"/>\n      </g>\n     </g>\n    </g>\n    <g id=\"xtick_3\">\n     <g id=\"line2d_3\">\n      <g>\n       <use style=\"stroke:#000000;stroke-width:0.8;\" x=\"254.414399\" xlink:href=\"#m415112975f\" y=\"224.64\"/>\n      </g>\n     </g>\n     <g id=\"text_3\">\n      <!-- 0.05 -->\n      <g transform=\"translate(243.281587 239.238437)scale(0.1 -0.1)\">\n       <use xlink:href=\"#DejaVuSans-48\"/>\n       <use x=\"63.623047\" xlink:href=\"#DejaVuSans-46\"/>\n       <use x=\"95.410156\" xlink:href=\"#DejaVuSans-48\"/>\n       <use x=\"159.033203\" xlink:href=\"#DejaVuSans-53\"/>\n      </g>\n     </g>\n    </g>\n    <g id=\"xtick_4\">\n     <g id=\"line2d_4\">\n      <g>\n       <use style=\"stroke:#000000;stroke-width:0.8;\" x=\"328.179799\" xlink:href=\"#m415112975f\" y=\"224.64\"/>\n      </g>\n     </g>\n     <g id=\"text_4\">\n      <!-- 0.10 -->\n      <g transform=\"translate(317.046986 239.238437)scale(0.1 -0.1)\">\n       <defs>\n        <path d=\"M 12.40625 8.296875 \nL 28.515625 8.296875 \nL 28.515625 63.921875 \nL 10.984375 60.40625 \nL 10.984375 69.390625 \nL 28.421875 72.90625 \nL 38.28125 72.90625 \nL 38.28125 8.296875 \nL 54.390625 8.296875 \nL 54.390625 0 \nL 12.40625 0 \nz\n\" id=\"DejaVuSans-49\"/>\n       </defs>\n       <use xlink:href=\"#DejaVuSans-48\"/>\n       <use x=\"63.623047\" xlink:href=\"#DejaVuSans-46\"/>\n       <use x=\"95.410156\" xlink:href=\"#DejaVuSans-49\"/>\n       <use x=\"159.033203\" xlink:href=\"#DejaVuSans-48\"/>\n      </g>\n     </g>\n    </g>\n    <g id=\"text_5\">\n     <!-- x, м -->\n     <g transform=\"translate(209.651563 252.916562)scale(0.1 -0.1)\">\n      <defs>\n       <path d=\"M 54.890625 54.6875 \nL 35.109375 28.078125 \nL 55.90625 0 \nL 45.3125 0 \nL 29.390625 21.484375 \nL 13.484375 0 \nL 2.875 0 \nL 24.125 28.609375 \nL 4.6875 54.6875 \nL 15.28125 54.6875 \nL 29.78125 35.203125 \nL 44.28125 54.6875 \nz\n\" id=\"DejaVuSans-120\"/>\n       <path d=\"M 11.71875 12.40625 \nL 22.015625 12.40625 \nL 22.015625 4 \nL 14.015625 -11.625 \nL 7.71875 -11.625 \nL 11.71875 4 \nz\n\" id=\"DejaVuSans-44\"/>\n       <path id=\"DejaVuSans-32\"/>\n       <path d=\"M 9.078125 54.6875 \nL 22.21875 54.6875 \nL 37.75 18.0625 \nL 53.328125 54.6875 \nL 66.359375 54.6875 \nL 66.359375 0 \nL 57.328125 0 \nL 57.328125 46.09375 \nL 42.234375 10.5 \nL 33.25 10.5 \nL 18.109375 46.09375 \nL 18.109375 0 \nL 9.078125 0 \nz\n\" id=\"DejaVuSans-1084\"/>\n      </defs>\n      <use xlink:href=\"#DejaVuSans-120\"/>\n      <use x=\"59.179688\" xlink:href=\"#DejaVuSans-44\"/>\n      <use x=\"90.966797\" xlink:href=\"#DejaVuSans-32\"/>\n      <use x=\"122.753906\" xlink:href=\"#DejaVuSans-1084\"/>\n     </g>\n    </g>\n   </g>\n   <g id=\"matplotlib.axis_2\">\n    <g id=\"ytick_1\">\n     <g id=\"line2d_5\">\n      <defs>\n       <path d=\"M 0 0 \nL -3.5 0 \n\" id=\"mc37de1a209\" style=\"stroke:#000000;stroke-width:0.8;\"/>\n      </defs>\n      <g>\n       <use style=\"stroke:#000000;stroke-width:0.8;\" x=\"52.160938\" xlink:href=\"#mc37de1a209\" y=\"198.837144\"/>\n      </g>\n     </g>\n     <g id=\"text_6\">\n      <!-- −1.2 -->\n      <g transform=\"translate(20.878125 202.636363)scale(0.1 -0.1)\">\n       <defs>\n        <path d=\"M 19.1875 8.296875 \nL 53.609375 8.296875 \nL 53.609375 0 \nL 7.328125 0 \nL 7.328125 8.296875 \nQ 12.9375 14.109375 22.625 23.890625 \nQ 32.328125 33.6875 34.8125 36.53125 \nQ 39.546875 41.84375 41.421875 45.53125 \nQ 43.3125 49.21875 43.3125 52.78125 \nQ 43.3125 58.59375 39.234375 62.25 \nQ 35.15625 65.921875 28.609375 65.921875 \nQ 23.96875 65.921875 18.8125 64.3125 \nQ 13.671875 62.703125 7.8125 59.421875 \nL 7.8125 69.390625 \nQ 13.765625 71.78125 18.9375 73 \nQ 24.125 74.21875 28.421875 74.21875 \nQ 39.75 74.21875 46.484375 68.546875 \nQ 53.21875 62.890625 53.21875 53.421875 \nQ 53.21875 48.921875 51.53125 44.890625 \nQ 49.859375 40.875 45.40625 35.40625 \nQ 44.1875 33.984375 37.640625 27.21875 \nQ 31.109375 20.453125 19.1875 8.296875 \nz\n\" id=\"DejaVuSans-50\"/>\n       </defs>\n       <use xlink:href=\"#DejaVuSans-8722\"/>\n       <use x=\"83.789062\" xlink:href=\"#DejaVuSans-49\"/>\n       <use x=\"147.412109\" xlink:href=\"#DejaVuSans-46\"/>\n       <use x=\"179.199219\" xlink:href=\"#DejaVuSans-50\"/>\n      </g>\n     </g>\n    </g>\n    <g id=\"ytick_2\">\n     <g id=\"line2d_6\">\n      <g>\n       <use style=\"stroke:#000000;stroke-width:0.8;\" x=\"52.160938\" xlink:href=\"#mc37de1a209\" y=\"168.544893\"/>\n      </g>\n     </g>\n     <g id=\"text_7\">\n      <!-- −1.0 -->\n      <g transform=\"translate(20.878125 172.344111)scale(0.1 -0.1)\">\n       <use xlink:href=\"#DejaVuSans-8722\"/>\n       <use x=\"83.789062\" xlink:href=\"#DejaVuSans-49\"/>\n       <use x=\"147.412109\" xlink:href=\"#DejaVuSans-46\"/>\n       <use x=\"179.199219\" xlink:href=\"#DejaVuSans-48\"/>\n      </g>\n     </g>\n    </g>\n    <g id=\"ytick_3\">\n     <g id=\"line2d_7\">\n      <g>\n       <use style=\"stroke:#000000;stroke-width:0.8;\" x=\"52.160938\" xlink:href=\"#mc37de1a209\" y=\"138.252641\"/>\n      </g>\n     </g>\n     <g id=\"text_8\">\n      <!-- −0.8 -->\n      <g transform=\"translate(20.878125 142.05186)scale(0.1 -0.1)\">\n       <defs>\n        <path d=\"M 31.78125 34.625 \nQ 24.75 34.625 20.71875 30.859375 \nQ 16.703125 27.09375 16.703125 20.515625 \nQ 16.703125 13.921875 20.71875 10.15625 \nQ 24.75 6.390625 31.78125 6.390625 \nQ 38.8125 6.390625 42.859375 10.171875 \nQ 46.921875 13.96875 46.921875 20.515625 \nQ 46.921875 27.09375 42.890625 30.859375 \nQ 38.875 34.625 31.78125 34.625 \nz\nM 21.921875 38.8125 \nQ 15.578125 40.375 12.03125 44.71875 \nQ 8.5 49.078125 8.5 55.328125 \nQ 8.5 64.0625 14.71875 69.140625 \nQ 20.953125 74.21875 31.78125 74.21875 \nQ 42.671875 74.21875 48.875 69.140625 \nQ 55.078125 64.0625 55.078125 55.328125 \nQ 55.078125 49.078125 51.53125 44.71875 \nQ 48 40.375 41.703125 38.8125 \nQ 48.828125 37.15625 52.796875 32.3125 \nQ 56.78125 27.484375 56.78125 20.515625 \nQ 56.78125 9.90625 50.3125 4.234375 \nQ 43.84375 -1.421875 31.78125 -1.421875 \nQ 19.734375 -1.421875 13.25 4.234375 \nQ 6.78125 9.90625 6.78125 20.515625 \nQ 6.78125 27.484375 10.78125 32.3125 \nQ 14.796875 37.15625 21.921875 38.8125 \nz\nM 18.3125 54.390625 \nQ 18.3125 48.734375 21.84375 45.5625 \nQ 25.390625 42.390625 31.78125 42.390625 \nQ 38.140625 42.390625 41.71875 45.5625 \nQ 45.3125 48.734375 45.3125 54.390625 \nQ 45.3125 60.0625 41.71875 63.234375 \nQ 38.140625 66.40625 31.78125 66.40625 \nQ 25.390625 66.40625 21.84375 63.234375 \nQ 18.3125 60.0625 18.3125 54.390625 \nz\n\" id=\"DejaVuSans-56\"/>\n       </defs>\n       <use xlink:href=\"#DejaVuSans-8722\"/>\n       <use x=\"83.789062\" xlink:href=\"#DejaVuSans-48\"/>\n       <use x=\"147.412109\" xlink:href=\"#DejaVuSans-46\"/>\n       <use x=\"179.199219\" xlink:href=\"#DejaVuSans-56\"/>\n      </g>\n     </g>\n    </g>\n    <g id=\"ytick_4\">\n     <g id=\"line2d_8\">\n      <g>\n       <use style=\"stroke:#000000;stroke-width:0.8;\" x=\"52.160938\" xlink:href=\"#mc37de1a209\" y=\"107.96039\"/>\n      </g>\n     </g>\n     <g id=\"text_9\">\n      <!-- −0.6 -->\n      <g transform=\"translate(20.878125 111.759609)scale(0.1 -0.1)\">\n       <defs>\n        <path d=\"M 33.015625 40.375 \nQ 26.375 40.375 22.484375 35.828125 \nQ 18.609375 31.296875 18.609375 23.390625 \nQ 18.609375 15.53125 22.484375 10.953125 \nQ 26.375 6.390625 33.015625 6.390625 \nQ 39.65625 6.390625 43.53125 10.953125 \nQ 47.40625 15.53125 47.40625 23.390625 \nQ 47.40625 31.296875 43.53125 35.828125 \nQ 39.65625 40.375 33.015625 40.375 \nz\nM 52.59375 71.296875 \nL 52.59375 62.3125 \nQ 48.875 64.0625 45.09375 64.984375 \nQ 41.3125 65.921875 37.59375 65.921875 \nQ 27.828125 65.921875 22.671875 59.328125 \nQ 17.53125 52.734375 16.796875 39.40625 \nQ 19.671875 43.65625 24.015625 45.921875 \nQ 28.375 48.1875 33.59375 48.1875 \nQ 44.578125 48.1875 50.953125 41.515625 \nQ 57.328125 34.859375 57.328125 23.390625 \nQ 57.328125 12.15625 50.6875 5.359375 \nQ 44.046875 -1.421875 33.015625 -1.421875 \nQ 20.359375 -1.421875 13.671875 8.265625 \nQ 6.984375 17.96875 6.984375 36.375 \nQ 6.984375 53.65625 15.1875 63.9375 \nQ 23.390625 74.21875 37.203125 74.21875 \nQ 40.921875 74.21875 44.703125 73.484375 \nQ 48.484375 72.75 52.59375 71.296875 \nz\n\" id=\"DejaVuSans-54\"/>\n       </defs>\n       <use xlink:href=\"#DejaVuSans-8722\"/>\n       <use x=\"83.789062\" xlink:href=\"#DejaVuSans-48\"/>\n       <use x=\"147.412109\" xlink:href=\"#DejaVuSans-46\"/>\n       <use x=\"179.199219\" xlink:href=\"#DejaVuSans-54\"/>\n      </g>\n     </g>\n    </g>\n    <g id=\"ytick_5\">\n     <g id=\"line2d_9\">\n      <g>\n       <use style=\"stroke:#000000;stroke-width:0.8;\" x=\"52.160938\" xlink:href=\"#mc37de1a209\" y=\"77.668139\"/>\n      </g>\n     </g>\n     <g id=\"text_10\">\n      <!-- −0.4 -->\n      <g transform=\"translate(20.878125 81.467358)scale(0.1 -0.1)\">\n       <defs>\n        <path d=\"M 37.796875 64.3125 \nL 12.890625 25.390625 \nL 37.796875 25.390625 \nz\nM 35.203125 72.90625 \nL 47.609375 72.90625 \nL 47.609375 25.390625 \nL 58.015625 25.390625 \nL 58.015625 17.1875 \nL 47.609375 17.1875 \nL 47.609375 0 \nL 37.796875 0 \nL 37.796875 17.1875 \nL 4.890625 17.1875 \nL 4.890625 26.703125 \nz\n\" id=\"DejaVuSans-52\"/>\n       </defs>\n       <use xlink:href=\"#DejaVuSans-8722\"/>\n       <use x=\"83.789062\" xlink:href=\"#DejaVuSans-48\"/>\n       <use x=\"147.412109\" xlink:href=\"#DejaVuSans-46\"/>\n       <use x=\"179.199219\" xlink:href=\"#DejaVuSans-52\"/>\n      </g>\n     </g>\n    </g>\n    <g id=\"ytick_6\">\n     <g id=\"line2d_10\">\n      <g>\n       <use style=\"stroke:#000000;stroke-width:0.8;\" x=\"52.160938\" xlink:href=\"#mc37de1a209\" y=\"47.375888\"/>\n      </g>\n     </g>\n     <g id=\"text_11\">\n      <!-- −0.2 -->\n      <g transform=\"translate(20.878125 51.175106)scale(0.1 -0.1)\">\n       <use xlink:href=\"#DejaVuSans-8722\"/>\n       <use x=\"83.789062\" xlink:href=\"#DejaVuSans-48\"/>\n       <use x=\"147.412109\" xlink:href=\"#DejaVuSans-46\"/>\n       <use x=\"179.199219\" xlink:href=\"#DejaVuSans-50\"/>\n      </g>\n     </g>\n    </g>\n    <g id=\"ytick_7\">\n     <g id=\"line2d_11\">\n      <g>\n       <use style=\"stroke:#000000;stroke-width:0.8;\" x=\"52.160938\" xlink:href=\"#mc37de1a209\" y=\"17.083636\"/>\n      </g>\n     </g>\n     <g id=\"text_12\">\n      <!-- 0.0 -->\n      <g transform=\"translate(29.257812 20.882855)scale(0.1 -0.1)\">\n       <use xlink:href=\"#DejaVuSans-48\"/>\n       <use x=\"63.623047\" xlink:href=\"#DejaVuSans-46\"/>\n       <use x=\"95.410156\" xlink:href=\"#DejaVuSans-48\"/>\n      </g>\n     </g>\n    </g>\n    <g id=\"text_13\">\n     <!-- y, м -->\n     <g transform=\"translate(14.798438 125.829375)rotate(-90)scale(0.1 -0.1)\">\n      <defs>\n       <path d=\"M 32.171875 -5.078125 \nQ 28.375 -14.84375 24.75 -17.8125 \nQ 21.140625 -20.796875 15.09375 -20.796875 \nL 7.90625 -20.796875 \nL 7.90625 -13.28125 \nL 13.1875 -13.28125 \nQ 16.890625 -13.28125 18.9375 -11.515625 \nQ 21 -9.765625 23.484375 -3.21875 \nL 25.09375 0.875 \nL 2.984375 54.6875 \nL 12.5 54.6875 \nL 29.59375 11.921875 \nL 46.6875 54.6875 \nL 56.203125 54.6875 \nz\n\" id=\"DejaVuSans-121\"/>\n      </defs>\n      <use xlink:href=\"#DejaVuSans-121\"/>\n      <use x=\"59.179688\" xlink:href=\"#DejaVuSans-44\"/>\n      <use x=\"90.966797\" xlink:href=\"#DejaVuSans-32\"/>\n      <use x=\"122.753906\" xlink:href=\"#DejaVuSans-1084\"/>\n     </g>\n    </g>\n   </g>\n   <g id=\"line2d_12\">\n    <path clip-path=\"url(#pe616dfef7b)\" d=\"M 254.414399 17.083636 \nL 258.034511 21.308235 \nL 261.188111 25.536774 \nL 263.83192 29.768994 \nL 265.923602 34.004469 \nL 267.422283 38.242592 \nL 268.289126 42.482574 \nL 268.487964 46.72344 \nL 267.985973 50.964042 \nL 266.754375 55.203072 \nL 264.769169 59.439087 \nL 262.011844 63.670544 \nL 258.470085 67.895842 \nL 254.138425 72.113377 \nL 249.01885 76.321596 \nL 243.121322 80.519068 \nL 236.464234 84.704551 \nL 229.074779 88.877061 \nL 220.989268 93.035944 \nL 212.253398 97.180941 \nL 202.922513 101.312248 \nL 193.061911 105.430567 \nL 182.747223 109.537146 \nL 172.064951 113.633808 \nL 161.113208 117.722964 \nL 150.002738 121.807604 \nL 138.858275 125.891268 \nL 127.820301 129.977979 \nL 117.047245 134.072135 \nL 106.718104 138.178331 \nL 97.035413 142.301096 \nL 88.228331 146.444505 \nL 80.555372 150.611618 \nL 74.305937 154.80372 \nL 69.799303 159.019322 \nL 67.379119 163.252952 \nL 67.401088 167.493867 \nL 70.211777 171.724954 \nL 76.118291 175.922293 \nL 85.352139 180.055897 \nL 98.035231 184.091972 \nL 114.158758 187.996497 \nL 133.58346 191.739283 \nL 156.062204 195.297316 \nL 181.277259 198.656495 \nL 208.880564 201.811577 \nL 238.527322 204.764795 \nL 269.898459 207.523872 \nL 302.712227 210.100025 \nL 336.727621 212.506302 \nL 371.742756 214.756364 \n\" style=\"fill:none;stroke:#1f77b4;stroke-linecap:square;stroke-width:1.5;\"/>\n   </g>\n   <g id=\"patch_3\">\n    <path d=\"M 52.160938 224.64 \nL 52.160938 7.2 \n\" style=\"fill:none;stroke:#000000;stroke-linecap:square;stroke-linejoin:miter;stroke-width:0.8;\"/>\n   </g>\n   <g id=\"patch_4\">\n    <path d=\"M 386.960938 224.64 \nL 386.960938 7.2 \n\" style=\"fill:none;stroke:#000000;stroke-linecap:square;stroke-linejoin:miter;stroke-width:0.8;\"/>\n   </g>\n   <g id=\"patch_5\">\n    <path d=\"M 52.160937 224.64 \nL 386.960938 224.64 \n\" style=\"fill:none;stroke:#000000;stroke-linecap:square;stroke-linejoin:miter;stroke-width:0.8;\"/>\n   </g>\n   <g id=\"patch_6\">\n    <path d=\"M 52.160937 7.2 \nL 386.960938 7.2 \n\" style=\"fill:none;stroke:#000000;stroke-linecap:square;stroke-linejoin:miter;stroke-width:0.8;\"/>\n   </g>\n  </g>\n </g>\n <defs>\n  <clipPath id=\"pe616dfef7b\">\n   <rect height=\"217.44\" width=\"334.8\" x=\"52.160938\" y=\"7.2\"/>\n  </clipPath>\n </defs>\n</svg>\n",
      "image/png": "[encoded data removed]"
     },
     "metadata": {
      "needs_background": "light"
     }
    }
   ],
   "source": [
    "plt.plot(res_x, res_y)\n",
    "plt.xlabel(\"x, м\")\n",
    "plt.ylabel(\"y, м\")"
   ]
  },
  {
   "cell_type": "code",
   "execution_count": 494,
   "metadata": {},
   "outputs": [
    {
     "output_type": "stream",
     "name": "stdout",
     "text": [
      "-61.04102903392017\n-119.88072931344713\n"
     ]
    }
   ],
   "source": [
    "for i in range(len(res_x) - 1):\n",
    "    if res_x[i] * res_x[i+1] < 0:\n",
    "        if abs(res_x[i]) < abs(res_x[i+1]):\n",
    "            print(res_y[i] * 100)\n",
    "        else: \n",
    "            print(res_y[i+1] * 100)\n"
   ]
  },
  {
   "cell_type": "code",
   "execution_count": 495,
   "metadata": {},
   "outputs": [
    {
     "output_type": "stream",
     "name": "stdout",
     "text": [
      "[ 0.05        0.0524538   0.05459139  0.05638343  0.05780122  0.05881706\n  0.05940463  0.05953941  0.05919915  0.05836434  0.05701872  0.05514973\n  0.05274904  0.04981294  0.04634276  0.04234527  0.03783294  0.03282418\n  0.02734363  0.02142224  0.01509753  0.00841378  0.00142223 -0.00581848\n -0.01324184 -0.02077279 -0.02832678 -0.03580859 -0.04311083 -0.05011218\n -0.05667534 -0.062645   -0.06784592 -0.07208194 -0.07513665 -0.07677711\n -0.07676222 -0.07485706 -0.07085348 -0.06459455 -0.05599764 -0.04506872\n -0.03190218 -0.01666553  0.00042585  0.01913605  0.03923135  0.06049548\n  0.08273745  0.10579392  0.12952804]\n[-0.         -0.02789227 -0.05581056 -0.08375315 -0.11171724 -0.1396988\n -0.16769264 -0.19569231 -0.22369024 -0.2516778  -0.27964544 -0.307583\n -0.33547989 -0.36332552 -0.39110965 -0.41882283 -0.44645685 -0.47400521\n -0.50146361 -0.52883032 -0.55610665 -0.58329723 -0.61041029 -0.63745788\n -0.66445591 -0.69142413 -0.7183859  -0.7453678  -0.77239884 -0.79950938\n -0.82672931 -0.85408554 -0.88159827 -0.90927599 -0.93710886 -0.96506076\n -0.99306076 -1.02099587 -1.04870817 -1.07599966 -1.10264724 -1.12842627\n -1.15313745 -1.17662882 -1.19880729 -1.21963824 -1.23913642 -1.25735281\n -1.27436147 -1.29024854 -1.30510424]\n"
     ]
    }
   ],
   "source": [
    "print(res_x)\n",
    "print(res_y)"
   ]
  },
  {
   "cell_type": "code",
   "execution_count": 496,
   "metadata": {},
   "outputs": [
    {
     "output_type": "stream",
     "name": "stdout",
     "text": [
      "-0.0\n-0.027892272445775787\n-0.05581055892141709\n-0.08375315360317659\n-0.11171723523838609\n-0.13969880173686025\n-0.1676926361309251\n-0.19569231175438798\n-0.223690244205305\n-0.2516777967453787\n-0.27964544416896897\n-0.30758299783430054\n-0.3354798915675303\n-0.3633255247095285\n-0.3911096549551469\n-0.41882283018239214\n-0.4464568455465982\n-0.47400521003200136\n-0.5014636055950761\n-0.528830321999295\n-0.556106651202338\n-0.5832972262479231\n-0.6104102903392017\n-0.6374578812208958\n-0.6644559130624185\n-0.691424131389095\n-0.7183859046837117\n-0.7453677972514182\n-0.7723988398438983\n-0.7995093757483754\n-0.8267293105785054\n-0.8540855384560033\n-0.8815982706070196\n-0.9092759896471577\n-0.9371088616054389\n-0.9650607647918727\n-0.9930607608321774\n-1.0209958711631086\n-1.0487081670541718\n-1.0759996640004323\n-1.1026472365144806\n-1.1284262716022475\n-1.153137447666187\n-1.176628821526918\n-1.1988072931344713\n-1.2196382430840529\n-1.2391364199842874\n-1.257352810483678\n-1.2743614678129664\n-1.2902485440811646\n-1.305104237772872\n"
     ]
    }
   ],
   "source": [
    "for i in res_y:\n",
    "    print(i)"
   ]
  },
  {
   "cell_type": "code",
   "execution_count": null,
   "metadata": {},
   "outputs": [],
   "source": []
  }
 ]
}